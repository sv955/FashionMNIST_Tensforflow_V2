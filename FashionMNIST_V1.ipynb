{
  "nbformat": 4,
  "nbformat_minor": 0,
  "metadata": {
    "colab": {
      "name": "FashionMNIST - V1",
      "provenance": [],
      "collapsed_sections": []
    },
    "kernelspec": {
      "name": "python3",
      "display_name": "Python 3"
    }
  },
  "cells": [
    {
      "cell_type": "code",
      "metadata": {
        "id": "UdYnbkkck0-g",
        "colab_type": "code",
        "colab": {
          "base_uri": "https://localhost:8080/",
          "height": 87
        },
        "outputId": "36128f9a-c6cc-4563-f6a7-3e6c35ae07ab"
      },
      "source": [
        "import numpy as np\n",
        "import pandas as pd\n",
        "import matplotlib.pyplot as plt\n",
        "import matplotlib.image as img\n",
        "import idx2numpy\n",
        "import os\n",
        "import tensorflow.compat.v1 as tf\n",
        "from matplotlib.ticker import MaxNLocator\n",
        "\n",
        "tf.disable_v2_behavior()\n",
        "\n",
        "\n"
      ],
      "execution_count": 3,
      "outputs": [
        {
          "output_type": "stream",
          "text": [
            "WARNING:tensorflow:From /usr/local/lib/python3.6/dist-packages/tensorflow/python/compat/v2_compat.py:96: disable_resource_variables (from tensorflow.python.ops.variable_scope) is deprecated and will be removed in a future version.\n",
            "Instructions for updating:\n",
            "non-resource variables are not supported in the long term\n"
          ],
          "name": "stdout"
        }
      ]
    },
    {
      "cell_type": "markdown",
      "metadata": {
        "id": "gtnJrDYZueVl",
        "colab_type": "text"
      },
      "source": [
        "**Dataset file names**"
      ]
    },
    {
      "cell_type": "code",
      "metadata": {
        "id": "SqYU4CfAlH3k",
        "colab_type": "code",
        "colab": {}
      },
      "source": [
        "X_train_name = \"train-images-idx3-ubyte\"\n",
        "Y_train_name = \"train-labels-idx1-ubyte\"\n",
        "X_test_name = \"t10k-images-idx3-ubyte\"\n",
        "Y_test_name = \"t10k-labels-idx1-ubyte\""
      ],
      "execution_count": 5,
      "outputs": []
    },
    {
      "cell_type": "markdown",
      "metadata": {
        "id": "KLIPwCkQvbxk",
        "colab_type": "text"
      },
      "source": [
        "** Sample image and lable from traning set**"
      ]
    },
    {
      "cell_type": "code",
      "metadata": {
        "id": "czXLmY8qxNhi",
        "colab_type": "code",
        "colab": {}
      },
      "source": [
        "X_train  = idx2numpy.convert_from_file(X_train_name)\n",
        "Y_train  = idx2numpy.convert_from_file(Y_train_name)\n",
        "\n",
        "\n",
        "\n",
        "SamplePlotX = X_train\n",
        "SamplePlotY = Y_train\n",
        "\n",
        "\n",
        "X_test  = idx2numpy.convert_from_file(X_test_name)\n",
        "Y_test  = idx2numpy.convert_from_file(Y_test_name)\n",
        "\n",
        "\n",
        "#One hot Encoding\n",
        "Y_train=pd.get_dummies(Y_train).to_numpy()\n",
        "Y_test=pd.get_dummies(Y_test).to_numpy()\n"
      ],
      "execution_count": 6,
      "outputs": []
    },
    {
      "cell_type": "code",
      "metadata": {
        "id": "GneJ44m5acsv",
        "colab_type": "code",
        "colab": {
          "base_uri": "https://localhost:8080/",
          "height": 50
        },
        "outputId": "5cbb0c0a-b643-4f1f-9ff3-5b349847d421"
      },
      "source": [
        "X_train = X_train.reshape(X_train.shape[0],X_train.shape[1],X_train.shape[2],1)\n",
        "print(Y_train.shape)\n",
        "print(X_train.shape)"
      ],
      "execution_count": 7,
      "outputs": [
        {
          "output_type": "stream",
          "text": [
            "(60000, 10)\n",
            "(60000, 28, 28, 1)\n"
          ],
          "name": "stdout"
        }
      ]
    },
    {
      "cell_type": "code",
      "metadata": {
        "id": "8oqw9q9ZqZOI",
        "colab_type": "code",
        "colab": {
          "base_uri": "https://localhost:8080/",
          "height": 50
        },
        "outputId": "d63ec77e-35f1-4f4e-9abf-3f2ee8b1a888"
      },
      "source": [
        "backup = X_test\n",
        "X_test = X_test.reshape(X_test.shape[0],X_test.shape[1],X_test.shape[2],1)\n",
        "print(Y_test.shape)\n",
        "print(X_test.shape)"
      ],
      "execution_count": 40,
      "outputs": [
        {
          "output_type": "stream",
          "text": [
            "(10000, 10)\n",
            "(10000, 28, 28, 1)\n"
          ],
          "name": "stdout"
        }
      ]
    },
    {
      "cell_type": "markdown",
      "metadata": {
        "id": "QXsepL1qy3qu",
        "colab_type": "text"
      },
      "source": [
        "** Visualizing a sample image and the corresponding lable value from the traning dataset **"
      ]
    },
    {
      "cell_type": "code",
      "metadata": {
        "id": "v_qC28gBvgIZ",
        "colab_type": "code",
        "colab": {
          "base_uri": "https://localhost:8080/",
          "height": 282
        },
        "outputId": "00ee3372-99a8-4b4c-caf8-fbee9df6c41d"
      },
      "source": [
        "plt.imshow(SamplePlotX[1], cmap = plt.cm.binary)"
      ],
      "execution_count": 8,
      "outputs": [
        {
          "output_type": "execute_result",
          "data": {
            "text/plain": [
              "<matplotlib.image.AxesImage at 0x7f3386229908>"
            ]
          },
          "metadata": {
            "tags": []
          },
          "execution_count": 8
        },
        {
          "output_type": "display_data",
          "data": {
            "image/png": "[encoded data removed]",
            "text/plain": [
              "<Figure size 432x288 with 1 Axes>"
            ]
          },
          "metadata": {
            "tags": [],
            "needs_background": "light"
          }
        }
      ]
    },
    {
      "cell_type": "markdown",
      "metadata": {
        "id": "LQuSU3svxtkP",
        "colab_type": "text"
      },
      "source": [
        "Visualizing the lables count as per the catogery value"
      ]
    },
    {
      "cell_type": "markdown",
      "metadata": {
        "id": "nNk2DPXAxs4H",
        "colab_type": "text"
      },
      "source": [
        ""
      ]
    },
    {
      "cell_type": "code",
      "metadata": {
        "id": "a8fYP9LozKZv",
        "colab_type": "code",
        "colab": {
          "base_uri": "https://localhost:8080/",
          "height": 34
        },
        "outputId": "658f8fa8-c3d6-4c13-882f-289930865316"
      },
      "source": [
        "print(\"Lable for this image is \", Y_train[1])"
      ],
      "execution_count": 9,
      "outputs": [
        {
          "output_type": "stream",
          "text": [
            "Lable for this image is  [1 0 0 0 0 0 0 0 0 0]\n"
          ],
          "name": "stdout"
        }
      ]
    },
    {
      "cell_type": "markdown",
      "metadata": {
        "id": "q2dU3CMAzZqK",
        "colab_type": "text"
      },
      "source": [
        "** Total count of labels category wise **"
      ]
    },
    {
      "cell_type": "code",
      "metadata": {
        "id": "IhPVvYa3zkq0",
        "colab_type": "code",
        "colab": {}
      },
      "source": [
        "unique, count = np.unique(SamplePlotY, return_counts=True)\n",
        "n_classes =  (len(unique))"
      ],
      "execution_count": 10,
      "outputs": []
    },
    {
      "cell_type": "code",
      "metadata": {
        "id": "xtp6Ng1az43b",
        "colab_type": "code",
        "colab": {
          "base_uri": "https://localhost:8080/",
          "height": 265
        },
        "outputId": "fcc7259c-1ce2-4c2d-a43d-566ea5a512ca"
      },
      "source": [
        "plt.bar(unique,count)\n",
        "plt.show()"
      ],
      "execution_count": 11,
      "outputs": [
        {
          "output_type": "display_data",
          "data": {
            "image/png": "[encoded data removed]",
            "text/plain": [
              "<Figure size 432x288 with 1 Axes>"
            ]
          },
          "metadata": {
            "tags": [],
            "needs_background": "light"
          }
        }
      ]
    },
    {
      "cell_type": "markdown",
      "metadata": {
        "id": "LD4BuFZv0Ny9",
        "colab_type": "text"
      },
      "source": [
        "** Parameters **"
      ]
    },
    {
      "cell_type": "code",
      "metadata": {
        "id": "sl9JqyOj0Pel",
        "colab_type": "code",
        "colab": {}
      },
      "source": [
        "image_h = image_w = 28\n",
        "channel = 1"
      ],
      "execution_count": 12,
      "outputs": []
    },
    {
      "cell_type": "markdown",
      "metadata": {
        "id": "hN2AkLmv0etK",
        "colab_type": "text"
      },
      "source": [
        "** Batch generation **"
      ]
    },
    {
      "cell_type": "code",
      "metadata": {
        "id": "yIGYL2D_0TJM",
        "colab_type": "code",
        "colab": {}
      },
      "source": [
        "def getBatch(batchSize,X,Y):\n",
        "  global image_h, image_w, channel,totalSample,currentSampleIndex\n",
        "\n",
        "  \n",
        "  images = np.empty(shape=[batchSize,image_h,image_w,1], dtype = np.float32 )\n",
        "  labels = np.empty(shape=[batchSize,10], dtype = np.int32 )\n",
        "\n",
        "  currentIndex =0\n",
        "\n",
        "  RandomSample = np.random.permutation(X.shape[0])\n",
        "\n",
        "  for index in RandomSample:\n",
        "\n",
        "    #Image normalization \n",
        "    _image = X[index]/127.5 -1\n",
        "    \n",
        "    images[currentIndex] = _image\n",
        "    labels[currentIndex] = Y[index]\n",
        "\n",
        "    currentIndex = currentIndex+1\n",
        "\n",
        "    if(currentIndex == batchSize):      \n",
        "      break;\n",
        "\n",
        "  return images, labels\n",
        "\n"
      ],
      "execution_count": 13,
      "outputs": []
    },
    {
      "cell_type": "markdown",
      "metadata": {
        "id": "a9LrVUgN7U5i",
        "colab_type": "text"
      },
      "source": [
        "** Graph parameters **"
      ]
    },
    {
      "cell_type": "code",
      "metadata": {
        "id": "lV0juQ0T3UQd",
        "colab_type": "code",
        "colab": {}
      },
      "source": [
        "conv1_filters = 32\n",
        "conv1_kernelSize  = 3\n",
        "conv1_stride = 2\n",
        "conv1_padding = 'SAME'"
      ],
      "execution_count": 14,
      "outputs": []
    },
    {
      "cell_type": "code",
      "metadata": {
        "id": "J7kWuvdA7xZD",
        "colab_type": "code",
        "colab": {}
      },
      "source": [
        "conv2_filters = 32\n",
        "conv2_kernelSize  = 3\n",
        "conv2_stride = 2\n",
        "conv2_padding = 'SAME'"
      ],
      "execution_count": 15,
      "outputs": []
    },
    {
      "cell_type": "code",
      "metadata": {
        "id": "F0T8wUFm7xW7",
        "colab_type": "code",
        "colab": {}
      },
      "source": [
        "conv3_filters = 64\n",
        "conv3_kernelSize  = 3\n",
        "conv3_stride = 2\n",
        "conv3_padding = 'SAME'"
      ],
      "execution_count": 16,
      "outputs": []
    },
    {
      "cell_type": "code",
      "metadata": {
        "id": "PsooOAp37_T4",
        "colab_type": "code",
        "colab": {}
      },
      "source": [
        "conv4_filters = 128\n",
        "conv4_kernelSize  = 3\n",
        "conv4_stride = 2\n",
        "conv4_padding = 'SAME'"
      ],
      "execution_count": 17,
      "outputs": []
    },
    {
      "cell_type": "code",
      "metadata": {
        "id": "_8gCRyl98Cgl",
        "colab_type": "code",
        "colab": {}
      },
      "source": [
        "Dense_1_filters = 512"
      ],
      "execution_count": 18,
      "outputs": []
    },
    {
      "cell_type": "code",
      "metadata": {
        "id": "fFFS0Vec8IxM",
        "colab_type": "code",
        "colab": {}
      },
      "source": [
        "Dense_2_filters = np.unique(SamplePlotY).size"
      ],
      "execution_count": 19,
      "outputs": []
    },
    {
      "cell_type": "code",
      "metadata": {
        "id": "-6iN_iSJ8RE_",
        "colab_type": "code",
        "colab": {}
      },
      "source": [
        "tf.reset_default_graph()"
      ],
      "execution_count": 20,
      "outputs": []
    },
    {
      "cell_type": "markdown",
      "metadata": {
        "id": "fG8legu99GJw",
        "colab_type": "text"
      },
      "source": [
        "Placeholers\n"
      ]
    },
    {
      "cell_type": "code",
      "metadata": {
        "id": "V3F-aE8O8SVu",
        "colab_type": "code",
        "colab": {
          "base_uri": "https://localhost:8080/",
          "height": 84
        },
        "outputId": "b3b4ee12-2ce6-4ac2-b7b0-4700d49c2b31"
      },
      "source": [
        "X = tf.placeholder(tf.float32, shape=[None, image_h,image_w,1], name = \"Placeholder_X\")\n",
        "Y = tf.placeholder(tf.int32, shape =[None,n_classes],name = \"Placeholder_Y\")\n",
        "DropoutValue1 =  tf.placeholder_with_default(1.0, shape=(),name = \"Dropout_1\")\n",
        "DropoutValue2 =  tf.placeholder_with_default(1.0, shape=(),name = \"Dropout_2\")\n",
        "\n",
        "print(X)\n",
        "print(Y)\n",
        "print(DropoutValue1)\n",
        "print(DropoutValue2)"
      ],
      "execution_count": 21,
      "outputs": [
        {
          "output_type": "stream",
          "text": [
            "Tensor(\"Placeholder_X:0\", shape=(?, 28, 28, 1), dtype=float32)\n",
            "Tensor(\"Placeholder_Y:0\", shape=(?, 10), dtype=int32)\n",
            "Tensor(\"Dropout_1:0\", shape=(), dtype=float32)\n",
            "Tensor(\"Dropout_2:0\", shape=(), dtype=float32)\n"
          ],
          "name": "stdout"
        }
      ]
    },
    {
      "cell_type": "markdown",
      "metadata": {
        "id": "nEaJKgNutO-5",
        "colab_type": "text"
      },
      "source": [
        "** Graph **"
      ]
    },
    {
      "cell_type": "code",
      "metadata": {
        "id": "QsoFJHFL-Upi",
        "colab_type": "code",
        "colab": {
          "base_uri": "https://localhost:8080/",
          "height": 154
        },
        "outputId": "df4fe78e-af5e-45a1-c63a-b6f445305874"
      },
      "source": [
        "conv1 = tf.layers.conv2d(inputs = X, filters = conv1_filters, kernel_size = conv1_kernelSize, strides = conv1_stride, padding = conv1_padding, activation = tf.nn.relu)\n",
        "\n",
        "print(conv1)"
      ],
      "execution_count": 22,
      "outputs": [
        {
          "output_type": "stream",
          "text": [
            "WARNING:tensorflow:From <ipython-input-22-e1acee08851f>:1: conv2d (from tensorflow.python.layers.convolutional) is deprecated and will be removed in a future version.\n",
            "Instructions for updating:\n",
            "Use `tf.keras.layers.Conv2D` instead.\n",
            "WARNING:tensorflow:From /usr/local/lib/python3.6/dist-packages/tensorflow/python/layers/convolutional.py:424: Layer.apply (from tensorflow.python.keras.engine.base_layer_v1) is deprecated and will be removed in a future version.\n",
            "Instructions for updating:\n",
            "Please use `layer.__call__` method instead.\n",
            "Tensor(\"conv2d/Relu:0\", shape=(?, 14, 14, 32), dtype=float32)\n"
          ],
          "name": "stdout"
        }
      ]
    },
    {
      "cell_type": "code",
      "metadata": {
        "id": "WMV9VXGUtstX",
        "colab_type": "code",
        "colab": {
          "base_uri": "https://localhost:8080/",
          "height": 34
        },
        "outputId": "99224520-1eed-4d59-d9e0-1f7eb0ee0650"
      },
      "source": [
        "conv2 = tf.layers.conv2d(inputs = conv1, filters = conv2_filters, kernel_size = conv2_kernelSize, strides = conv2_stride, padding = conv2_padding, activation = tf.nn.relu)\n",
        "\n",
        "print(conv2)"
      ],
      "execution_count": 23,
      "outputs": [
        {
          "output_type": "stream",
          "text": [
            "Tensor(\"conv2d_1/Relu:0\", shape=(?, 7, 7, 32), dtype=float32)\n"
          ],
          "name": "stdout"
        }
      ]
    },
    {
      "cell_type": "code",
      "metadata": {
        "id": "HlAI2KiP3MDZ",
        "colab_type": "code",
        "colab": {
          "base_uri": "https://localhost:8080/",
          "height": 34
        },
        "outputId": "4a9d8d34-ae75-4e87-dd96-93aaaa284726"
      },
      "source": [
        "conv3 = tf.layers.conv2d(inputs = conv2, filters = conv3_filters, kernel_size = conv3_kernelSize, strides = conv3_stride, padding = conv3_padding,  activation = tf.nn.relu)\n",
        "\n",
        "print(conv3)\n"
      ],
      "execution_count": 24,
      "outputs": [
        {
          "output_type": "stream",
          "text": [
            "Tensor(\"conv2d_2/Relu:0\", shape=(?, 4, 4, 64), dtype=float32)\n"
          ],
          "name": "stdout"
        }
      ]
    },
    {
      "cell_type": "code",
      "metadata": {
        "id": "GfnXq5Mx3yXq",
        "colab_type": "code",
        "colab": {
          "base_uri": "https://localhost:8080/",
          "height": 34
        },
        "outputId": "43c42810-d0e0-4316-925c-cf655b7bdf28"
      },
      "source": [
        "flattenInputShape = conv3.shape\n",
        "flatten = tf.reshape(conv3, shape = [-1, flattenInputShape[1].value * flattenInputShape[2].value * flattenInputShape[3].value])\n",
        "print(flatten)"
      ],
      "execution_count": 25,
      "outputs": [
        {
          "output_type": "stream",
          "text": [
            "Tensor(\"Reshape:0\", shape=(?, 1024), dtype=float32)\n"
          ],
          "name": "stdout"
        }
      ]
    },
    {
      "cell_type": "code",
      "metadata": {
        "id": "G1ik37Z7olww",
        "colab_type": "code",
        "colab": {
          "base_uri": "https://localhost:8080/",
          "height": 67
        },
        "outputId": "f314ac73-39e0-461b-b530-b08863d936c6"
      },
      "source": [
        "flatten = tf.nn.dropout(flatten,DropoutValue1)"
      ],
      "execution_count": 26,
      "outputs": [
        {
          "output_type": "stream",
          "text": [
            "WARNING:tensorflow:From <ipython-input-26-14b0abb1cbcf>:1: calling dropout (from tensorflow.python.ops.nn_ops) with keep_prob is deprecated and will be removed in a future version.\n",
            "Instructions for updating:\n",
            "Please use `rate` instead of `keep_prob`. Rate should be set to `rate = 1 - keep_prob`.\n"
          ],
          "name": "stdout"
        }
      ]
    },
    {
      "cell_type": "code",
      "metadata": {
        "id": "8kgnKeeV4Rui",
        "colab_type": "code",
        "colab": {
          "base_uri": "https://localhost:8080/",
          "height": 84
        },
        "outputId": "0feb8a9f-7ee6-4eef-8035-d2876e465384"
      },
      "source": [
        "dense1 = tf.layers.dense(inputs = flatten, units = Dense_1_filters, activation= tf.nn.elu)\n",
        "print(dense1)\n",
        "dense1 = tf.nn.dropout(dense1,DropoutValue2)"
      ],
      "execution_count": 27,
      "outputs": [
        {
          "output_type": "stream",
          "text": [
            "WARNING:tensorflow:From <ipython-input-27-ea089053446d>:1: dense (from tensorflow.python.layers.core) is deprecated and will be removed in a future version.\n",
            "Instructions for updating:\n",
            "Use keras.layers.Dense instead.\n",
            "Tensor(\"dense/Elu:0\", shape=(?, 512), dtype=float32)\n"
          ],
          "name": "stdout"
        }
      ]
    },
    {
      "cell_type": "code",
      "metadata": {
        "id": "dW1x5QHr5ofZ",
        "colab_type": "code",
        "colab": {
          "base_uri": "https://localhost:8080/",
          "height": 34
        },
        "outputId": "13d05ef7-1ecc-47cb-ef1c-b521b34f8f05"
      },
      "source": [
        "output = tf.layers.dense(inputs = dense1, units = Dense_2_filters, activation= tf.nn.softmax)\n",
        "print(output)"
      ],
      "execution_count": 28,
      "outputs": [
        {
          "output_type": "stream",
          "text": [
            "Tensor(\"dense_1/Softmax:0\", shape=(?, 10), dtype=float32)\n"
          ],
          "name": "stdout"
        }
      ]
    },
    {
      "cell_type": "code",
      "metadata": {
        "id": "E-LKkaB-u3ZC",
        "colab_type": "code",
        "colab": {}
      },
      "source": [
        "y_pred_cls = tf.argmax(output, axis=1)\n",
        "y_true_cls = tf.argmax(Y, axis=1)"
      ],
      "execution_count": 29,
      "outputs": []
    },
    {
      "cell_type": "code",
      "metadata": {
        "id": "8cwcPYDE9_CK",
        "colab_type": "code",
        "colab": {}
      },
      "source": [
        "#loss = tf.reduce_mean(tf.nn.softmax_cross_entropy_with_logits_v2(labels= Y, logits = output))\n",
        "cross_entropy = tf.nn.softmax_cross_entropy_with_logits_v2(logits = output, labels = Y)\n",
        "cost = tf.reduce_mean(cross_entropy)"
      ],
      "execution_count": 30,
      "outputs": []
    },
    {
      "cell_type": "code",
      "metadata": {
        "id": "-mwHm2Pu-kMC",
        "colab_type": "code",
        "colab": {}
      },
      "source": [
        "optimizer = tf.train.AdamOptimizer(learning_rate=0.0007)"
      ],
      "execution_count": 31,
      "outputs": []
    },
    {
      "cell_type": "code",
      "metadata": {
        "id": "TFguwRZYB3z4",
        "colab_type": "code",
        "colab": {}
      },
      "source": [
        "train = optimizer.minimize(cost)"
      ],
      "execution_count": 32,
      "outputs": []
    },
    {
      "cell_type": "code",
      "metadata": {
        "id": "lz9EBNUtB-Sp",
        "colab_type": "code",
        "colab": {}
      },
      "source": [
        "saver = tf.train.Saver()"
      ],
      "execution_count": 33,
      "outputs": []
    },
    {
      "cell_type": "code",
      "metadata": {
        "id": "w_fqwKfsCB18",
        "colab_type": "code",
        "colab": {}
      },
      "source": [
        "init = tf.global_variables_initializer()"
      ],
      "execution_count": 34,
      "outputs": []
    },
    {
      "cell_type": "code",
      "metadata": {
        "id": "t-ysWqnhvZXx",
        "colab_type": "code",
        "colab": {}
      },
      "source": [
        "correct_predection = tf.equal(y_pred_cls,y_true_cls)\n",
        "accuaracy = tf.reduce_mean(tf.cast(correct_predection, tf.float32))"
      ],
      "execution_count": 35,
      "outputs": []
    },
    {
      "cell_type": "markdown",
      "metadata": {
        "id": "sYu4JucU5Jfl",
        "colab_type": "text"
      },
      "source": [
        "** Hyper parameters **"
      ]
    },
    {
      "cell_type": "code",
      "metadata": {
        "id": "QHaorOfi1U8L",
        "colab_type": "code",
        "colab": {
          "base_uri": "https://localhost:8080/",
          "height": 34
        },
        "outputId": "6d68e098-1259-45e8-8f55-607f27d29860"
      },
      "source": [
        "totalEpocs = 14\n",
        "batchSize = 64\n",
        "\n",
        "totalSets =(int)(len(X_train)/batchSize)\n",
        "\n",
        "\n",
        "totalSets"
      ],
      "execution_count": 36,
      "outputs": [
        {
          "output_type": "execute_result",
          "data": {
            "text/plain": [
              "937"
            ]
          },
          "metadata": {
            "tags": []
          },
          "execution_count": 36
        }
      ]
    },
    {
      "cell_type": "code",
      "metadata": {
        "id": "3TXDnld7kYJL",
        "colab_type": "code",
        "colab": {}
      },
      "source": [
        "TraningLoss = np.empty(shape= [totalEpocs], dtype= np.float32)\n",
        "TestLoss = np.empty(shape= [totalEpocs], dtype= np.float32)"
      ],
      "execution_count": 37,
      "outputs": []
    },
    {
      "cell_type": "code",
      "metadata": {
        "id": "5W-_hFS7CHVf",
        "colab_type": "code",
        "colab": {
          "base_uri": "https://localhost:8080/",
          "height": 1000
        },
        "outputId": "95df91f6-e092-4245-a142-11bc2cbda1f7"
      },
      "source": [
        "with tf.Session() as sess:\n",
        "  sess.run(init)\n",
        "\n",
        "  for epoch in range(totalEpocs):\n",
        "\n",
        "\n",
        "    print(\"{0}. Epoch\".format(epoch+1))\n",
        "\n",
        "    _accTotal = 0 \n",
        "    \n",
        "\n",
        "\n",
        "    for index in range(totalSets):\n",
        "      _x,_y = getBatch(batchSize, X_train,Y_train)     \n",
        "    \n",
        "      sess.run(train, feed_dict = {X:_x,Y:_y,DropoutValue1:0.75, DropoutValue2:.75})\n",
        "\n",
        "\n",
        "      _acc =  sess.run(accuaracy, feed_dict = {X:_x,Y:_y,DropoutValue1:0.75, DropoutValue2:.75})\n",
        "\n",
        "      _accTotal = _accTotal + _acc\n",
        "\n",
        "     # _cost = sess.run(cost, feed_dict = {X:_x,Y:_y})\n",
        "\n",
        "     \n",
        "  \n",
        "      if index % 400==0:\n",
        "        print('        Set No = {0} and accuracy = {1}'.format(index,_acc))\n",
        "\n",
        "    overallAcc = _accTotal/totalSets\n",
        "\n",
        "    print('  Overall Accuracy for epoc {0} and is  {1}'.format(epoch,overallAcc))\n",
        "  \n",
        "    TraningLoss[epoch] = overallAcc\n",
        "\n",
        "    _x,_y = getBatch(batchSize, X_train,Y_train)         \n",
        "   \n",
        "    _acc = sess.run(accuaracy, feed_dict = {X:_x,Y:_y,DropoutValue1:1, DropoutValue2:1})\n",
        "\n",
        "    #_cost = sess.run(cost, feed_dict = {X:_x,Y:_y})\n",
        "\n",
        "    print('  Accuracy for Test Run for epoc {0} is  {1} '.format(epoch,_acc))\n",
        "\n",
        "    TestLoss[epoch] = _acc\n",
        "\n",
        "     \n",
        "\n"
      ],
      "execution_count": 43,
      "outputs": [
        {
          "output_type": "stream",
          "text": [
            "1. Epoch\n",
            "        Set No = 0 and accuracy = 0.1875\n",
            "        Set No = 400 and accuracy = 0.8125\n",
            "        Set No = 800 and accuracy = 0.859375\n",
            "  Overall Accuracy for epoc 0 and is  0.787870197438634\n",
            "  Accuracy for Test Run for epoc 0 is  0.8125 \n",
            "2. Epoch\n",
            "        Set No = 0 and accuracy = 0.890625\n",
            "        Set No = 400 and accuracy = 0.859375\n",
            "        Set No = 800 and accuracy = 0.90625\n",
            "  Overall Accuracy for epoc 1 and is  0.8553395144076841\n",
            "  Accuracy for Test Run for epoc 1 is  0.890625 \n",
            "3. Epoch\n",
            "        Set No = 0 and accuracy = 0.90625\n",
            "        Set No = 400 and accuracy = 0.8125\n",
            "        Set No = 800 and accuracy = 0.875\n",
            "  Overall Accuracy for epoc 2 and is  0.8707644076840982\n",
            "  Accuracy for Test Run for epoc 2 is  0.875 \n",
            "4. Epoch\n",
            "        Set No = 0 and accuracy = 0.890625\n",
            "        Set No = 400 and accuracy = 0.890625\n",
            "        Set No = 800 and accuracy = 0.828125\n",
            "  Overall Accuracy for epoc 3 and is  0.8807030416221985\n",
            "  Accuracy for Test Run for epoc 3 is  0.9375 \n",
            "5. Epoch\n",
            "        Set No = 0 and accuracy = 0.90625\n",
            "        Set No = 400 and accuracy = 0.84375\n",
            "        Set No = 800 and accuracy = 0.875\n",
            "  Overall Accuracy for epoc 4 and is  0.8878568569903948\n",
            "  Accuracy for Test Run for epoc 4 is  0.90625 \n",
            "6. Epoch\n",
            "        Set No = 0 and accuracy = 0.828125\n",
            "        Set No = 400 and accuracy = 0.9375\n",
            "        Set No = 800 and accuracy = 0.890625\n",
            "  Overall Accuracy for epoc 5 and is  0.8903081643543223\n",
            "  Accuracy for Test Run for epoc 5 is  0.9375 \n",
            "7. Epoch\n",
            "        Set No = 0 and accuracy = 0.890625\n",
            "        Set No = 400 and accuracy = 0.890625\n",
            "        Set No = 800 and accuracy = 0.875\n",
            "  Overall Accuracy for epoc 6 and is  0.8940935165421559\n",
            "  Accuracy for Test Run for epoc 6 is  0.90625 \n",
            "8. Epoch\n",
            "        Set No = 0 and accuracy = 0.90625\n",
            "        Set No = 400 and accuracy = 0.890625\n",
            "        Set No = 800 and accuracy = 0.859375\n",
            "  Overall Accuracy for epoc 7 and is  0.8950440234791889\n",
            "  Accuracy for Test Run for epoc 7 is  0.890625 \n",
            "9. Epoch\n",
            "        Set No = 0 and accuracy = 0.875\n",
            "        Set No = 400 and accuracy = 0.84375\n",
            "        Set No = 800 and accuracy = 0.90625\n",
            "  Overall Accuracy for epoc 8 and is  0.9006803628601922\n",
            "  Accuracy for Test Run for epoc 8 is  0.859375 \n",
            "10. Epoch\n",
            "        Set No = 0 and accuracy = 0.96875\n",
            "        Set No = 400 and accuracy = 0.890625\n",
            "        Set No = 800 and accuracy = 0.921875\n",
            "  Overall Accuracy for epoc 9 and is  0.9026647545357525\n",
            "  Accuracy for Test Run for epoc 9 is  0.9375 \n",
            "11. Epoch\n",
            "        Set No = 0 and accuracy = 0.9375\n",
            "        Set No = 400 and accuracy = 0.875\n",
            "        Set No = 800 and accuracy = 0.90625\n",
            "  Overall Accuracy for epoc 10 and is  0.9047825506937033\n",
            "  Accuracy for Test Run for epoc 10 is  0.921875 \n",
            "12. Epoch\n",
            "        Set No = 0 and accuracy = 0.921875\n",
            "        Set No = 400 and accuracy = 0.890625\n",
            "        Set No = 800 and accuracy = 0.921875\n",
            "  Overall Accuracy for epoc 11 and is  0.9063167022411953\n",
            "  Accuracy for Test Run for epoc 11 is  0.890625 \n",
            "13. Epoch\n",
            "        Set No = 0 and accuracy = 0.921875\n",
            "        Set No = 400 and accuracy = 0.90625\n",
            "        Set No = 800 and accuracy = 0.890625\n",
            "  Overall Accuracy for epoc 12 and is  0.9056663553895411\n",
            "  Accuracy for Test Run for epoc 12 is  0.859375 \n",
            "14. Epoch\n",
            "        Set No = 0 and accuracy = 0.90625\n",
            "        Set No = 400 and accuracy = 0.890625\n",
            "        Set No = 800 and accuracy = 0.890625\n",
            "  Overall Accuracy for epoc 13 and is  0.9068169690501601\n",
            "  Accuracy for Test Run for epoc 13 is  0.90625 \n"
          ],
          "name": "stdout"
        }
      ]
    },
    {
      "cell_type": "code",
      "metadata": {
        "id": "1FclRjjWXrbZ",
        "colab_type": "code",
        "colab": {
          "base_uri": "https://localhost:8080/",
          "height": 322
        },
        "outputId": "cb9deb7e-aeb0-4c3b-cb72-3c2984be1184"
      },
      "source": [
        "\n",
        "trainLossValues = TraningLoss*100 \n",
        "testLossValues =  TestLoss  * 100 \n",
        "line1, = plt.plot(trainLossValues, label ='Train loss')\n",
        "line2, = plt.plot(testLossValues, label ='Test loss')\n",
        "\n",
        "first_legend = plt.legend(handles=[line1], loc =1)\n",
        "\n",
        "ax = plt.gca().add_artist(first_legend)\n",
        "\n",
        "plt.legend(handles=[line2], loc =4)\n",
        "\n",
        "axes = plt.axes()\n",
        "axes.set_ylim([40, 100])\n",
        "\n",
        "\n",
        "plt.show()"
      ],
      "execution_count": 49,
      "outputs": [
        {
          "output_type": "stream",
          "text": [
            "/usr/local/lib/python3.6/dist-packages/ipykernel_launcher.py:13: MatplotlibDeprecationWarning: Adding an axes using the same arguments as a previous axes currently reuses the earlier instance.  In a future version, a new instance will always be created and returned.  Meanwhile, this warning can be suppressed, and the future behavior ensured, by passing a unique label to each axes instance.\n",
            "  del sys.path[0]\n"
          ],
          "name": "stderr"
        },
        {
          "output_type": "display_data",
          "data": {
            "image/png": "[encoded data removed]",
            "text/plain": [
              "<Figure size 432x288 with 1 Axes>"
            ]
          },
          "metadata": {
            "tags": [],
            "needs_background": "light"
          }
        }
      ]
    },
    {
      "cell_type": "code",
      "metadata": {
        "id": "xjJ5HQAXljPQ",
        "colab_type": "code",
        "colab": {}
      },
      "source": [
        ""
      ],
      "execution_count": null,
      "outputs": []
    }
  ]
}